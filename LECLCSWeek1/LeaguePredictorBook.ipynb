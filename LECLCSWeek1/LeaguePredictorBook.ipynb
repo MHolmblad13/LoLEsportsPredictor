{
 "cells": [
  {
   "cell_type": "code",
   "execution_count": null,
   "metadata": {},
   "outputs": [],
   "source": [
    "# Import statements\n",
    "import pandas as pd # database loading and manipulation library\n",
    "import numpy as np # numeric python library\n",
    "import matplotlib.pyplot as plt # plotting and graphing library\n",
    "import operator\n",
    "%matplotlib notebook "
   ]
  },
  {
   "cell_type": "code",
   "execution_count": null,
   "metadata": {},
   "outputs": [],
   "source": [
    "summer2019 = pd.read_csv('2019-summer-match-data-OraclesElixir-2019-09-16.csv', low_memory=False)\n",
    "spring2019 = pd.read_csv('2019-spring-match-data-OraclesElixir-2019-05-21.csv', low_memory=False)\n",
    "springSummer2016 = pd.read_csv('2016-complete-match-data-OraclesElixir-2018-12-18.csv', low_memory=False)\n",
    "summer2018 = pd.read_csv('2018-summer-match-data-OraclesElixir-2018-09-27.csv', low_memory=False)\n",
    "worlds2019PlayIn = pd.read_csv('2019-summer-match-data-OraclesElixir-2019-11-10.csv', low_memory=False)"
   ]
  },
  {
   "cell_type": "code",
   "execution_count": null,
   "metadata": {},
   "outputs": [],
   "source": [
    "summer2018.info()"
   ]
  },
  {
   "cell_type": "code",
   "execution_count": null,
   "metadata": {},
   "outputs": [],
   "source": [
    "#Let's look at all of the unique players in the 2019 summer season\n",
    "summer2018['player'].unique()"
   ]
  },
  {
   "cell_type": "code",
   "execution_count": null,
   "metadata": {},
   "outputs": [],
   "source": [
    "# summer2019['league'].unique()\n",
    "springSummer2016['league'].unique()"
   ]
  },
  {
   "cell_type": "code",
   "execution_count": null,
   "metadata": {},
   "outputs": [],
   "source": [
    "#my way of computing the player's value to the team during the game\n",
    "def KDAScore(data):\n",
    "    return data['k']+data['d']+data['a']\n",
    "\n",
    "def TimeScore(data):\n",
    "    return \\\n",
    "    (data['csdat10']+data['csdat15'])*50 + \\\n",
    "    data['gdat10'] + \\\n",
    "    data['gdat15'] + \\\n",
    "    data['xpdat10']*.1\n",
    "\n",
    "def TimeScore2016(data):\n",
    "    return \\\n",
    "    data['csdat10']*50 + \\\n",
    "    data['gdat10'] + \\\n",
    "    data['gdat15'] + \\\n",
    "    data['xpdat10']*.1\n",
    "\n",
    "# Calculate an individual player's score\n",
    "def PlayerScore(data):    \n",
    "    return \\\n",
    "        data['KDA'] + \\\n",
    "        (pd.to_numeric(data['fb'], errors='coerce') + data['fbassist'])*500 + \\\n",
    "        data['earnedgpm']*2 + \\\n",
    "        data['cspm']*3 + \\\n",
    "        data['wpm'] + \\\n",
    "        data['wcpm']*100 + \\\n",
    "        data['dmgtochampsperminute']*3.4 + \\\n",
    "        data['teamdragkills']*20 + \\\n",
    "        pd.to_numeric(data['fd'], errors='coerce')*100 + \\\n",
    "        data['fbaron']*20 + \\\n",
    "        data['tScores']\n",
    "\n",
    "def PlayerScore2016(data):    \n",
    "    return \\\n",
    "        data['KDA'] + \\\n",
    "        (pd.to_numeric(data['fb'], errors='coerce')* 500) + \\\n",
    "        data['earnedgpm']*2 + \\\n",
    "        data['cspm']*3 + \\\n",
    "        data['wpm'] + \\\n",
    "        data['wcpm']*100 + \\\n",
    "        data['dmgtochampsperminute']*3.4 + \\\n",
    "        data['teamdragkills']*20 + \\\n",
    "        pd.to_numeric(data['fd'], errors='coerce')*100 + \\\n",
    "        data['fbaron']*20 + \\\n",
    "        data['tScores']"
   ]
  },
  {
   "cell_type": "code",
   "execution_count": null,
   "metadata": {},
   "outputs": [],
   "source": [
    "cleanSummer2019 = summer2019.loc[(summer2019['league'] == 'LCS') | (summer2019['league'] == 'LEC')]\n",
    "cleanSpring2019 = spring2019.loc[(spring2019['league'] == 'LCS') | (spring2019['league'] == 'LEC')]\n",
    "cleanSpringSummer2016 = springSummer2016.loc[(springSummer2016['league'] == 'EULCS') | (spring2019['league'] == 'NALCS')]\n",
    "cleanSummer2018 = summer2018.loc[(summer2018['league'] == 'NALCS') | (summer2018['league'] == 'EULCS')]\n",
    "\n",
    "cleanSummer2019.fillna(0)\n",
    "cleanSpring2019.fillna(0)\n",
    "cleanSpringSummer2016.fillna(0)\n",
    "cleanSummer2018.fillna(0)\n",
    "\n",
    "cleanSummer2019.head()"
   ]
  },
  {
   "cell_type": "code",
   "execution_count": null,
   "metadata": {},
   "outputs": [],
   "source": [
    "cleanSummer2018.info()"
   ]
  },
  {
   "cell_type": "code",
   "execution_count": null,
   "metadata": {},
   "outputs": [],
   "source": [
    "cleanSummer2019.loc[:, \"KDA\"] = KDAScore(cleanSummer2019)\n",
    "cleanSpring2019.loc[:, \"KDA\"] = KDAScore(cleanSpring2019)\n",
    "cleanSpringSummer2016.loc[:, \"KDA\"] = KDAScore(cleanSpringSummer2016)\n",
    "cleanSummer2018.loc[:, \"KDA\"] = KDAScore(cleanSummer2018)\n",
    "worlds2019PlayIn.loc[:, \"KDA\"] = KDAScore(worlds2019PlayIn)"
   ]
  },
  {
   "cell_type": "code",
   "execution_count": null,
   "metadata": {},
   "outputs": [],
   "source": [
    "cleanSummer2019.loc[:, \"tScores\"] = TimeScore(cleanSummer2019)\n",
    "cleanSpring2019.loc[:, \"tScores\"] = TimeScore(cleanSpring2019)\n",
    "cleanSpringSummer2016.loc[:, \"tScores\"] = TimeScore2016(cleanSpringSummer2016)\n",
    "cleanSummer2018.loc[:, \"tScores\"] = TimeScore(cleanSummer2018)\n",
    "worlds2019PlayIn.loc[:, \"tScores\"] = TimeScore(worlds2019PlayIn)"
   ]
  },
  {
   "cell_type": "code",
   "execution_count": null,
   "metadata": {},
   "outputs": [],
   "source": [
    "cleanSummer2018.info()"
   ]
  },
  {
   "cell_type": "code",
   "execution_count": null,
   "metadata": {},
   "outputs": [],
   "source": [
    "cleanSummer2019.loc[:, 'PlayerScore'] = PlayerScore(cleanSummer2019)\n",
    "cleanSpring2019.loc[:, 'PlayerScore'] = PlayerScore(cleanSpring2019)\n",
    "cleanSpringSummer2016.loc[:, 'PlayerScore'] = PlayerScore2016(cleanSpringSummer2016)\n",
    "cleanSummer2018.loc[:, 'PlayerScore'] = PlayerScore(cleanSummer2018)\n",
    "worlds2019PlayIn.loc[:, \"PlayerScore\"] = PlayerScore(worlds2019PlayIn)"
   ]
  },
  {
   "cell_type": "code",
   "execution_count": null,
   "metadata": {},
   "outputs": [],
   "source": [
    "summer2019_player_score = cleanSummer2019.groupby(\"player\")[\"PlayerScore\"].mean()\n",
    "spring2019_player_score = cleanSpring2019.groupby(\"player\")[\"PlayerScore\"].mean()\n",
    "springSummer2016_player_score = cleanSpringSummer2016.groupby(\"player\")[\"PlayerScore\"].mean()\n",
    "summer2018_player_score = cleanSummer2018.groupby(\"player\")[\"PlayerScore\"].mean()\n",
    "worlds2019_player_score = worlds2019PlayIn.groupby(\"player\")[\"PlayerScore\"].mean()"
   ]
  },
  {
   "cell_type": "code",
   "execution_count": null,
   "metadata": {},
   "outputs": [],
   "source": [
    "ML = ['Mad Lions','Humanoid'] #Missing Orome, Shadow, Carzzy, Gistick. They're all rookies\n",
    "Excel = ['Excel','Caedrel','Expect','Mickey','Patrik','Norskeren'] # Norskeren is now Tore\n",
    "Vit = ['Vitality','Cabochard', 'Jactroll','Mowgli'] #missing milica mid and comp adc, rookies\n",
    "Msf = ['Misfits','Febiven', 'Dan Dan', 'Doss'] #missing Bvoy adc, Razork jg and Ronaldo mid all played in minor leagues last year\n",
    "S04 = ['Schalke 04','Abbedagge', 'Odoamne', 'Dreams'] # Forg1ven was in 2016 data, Gilius is in 2018 data\n",
    "Rogue = ['Rogue','Vander', 'Larssen', 'Woolite', 'Hans Sama', 'Inspired']\n",
    "SK = ['SK Gaming','Sacre','Crownshot','Jenax','Trick'] #Missing Limit the support, limit is a rookie\n",
    "Fnc = ['Fnatic','Bwipo', 'Selfmade', 'Nemesis', 'Rekkles', 'Hylissang']\n",
    "OG = ['Origen','Nukeduck','Alphari','Xerxe','Upset'] #Missing data for Destiny the support\n",
    "G2 = ['G2','Wunder', 'Jankos', 'Caps', 'Perkz', 'Mikyx']"
   ]
  },
  {
   "cell_type": "code",
   "execution_count": null,
   "metadata": {},
   "outputs": [],
   "source": [
    "teamScoresLEC = { }\n",
    "\n",
    "def ComputeTeamScoreLEC(scores, teams):\n",
    "    total = 0\n",
    "    team = teams[1:]\n",
    "    for player in team:\n",
    "        total += scores[player]\n",
    "    teamScoresLEC[teams[0]] = total\n",
    "\n",
    "ComputeTeamScoreLEC(summer2019_player_score, SK)\n",
    "ComputeTeamScoreLEC(summer2019_player_score, OG)\n",
    "ComputeTeamScoreLEC(summer2019_player_score, Excel)\n",
    "ComputeTeamScoreLEC(summer2019_player_score, Rogue)\n",
    "ComputeTeamScoreLEC(summer2019_player_score, ML)\n",
    "ComputeTeamScoreLEC(summer2019_player_score, Fnc)\n",
    "ComputeTeamScoreLEC(summer2019_player_score, G2)\n",
    "ComputeTeamScoreLEC(summer2019_player_score, Msf)\n",
    "ComputeTeamScoreLEC(summer2019_player_score, S04)\n",
    "ComputeTeamScoreLEC(summer2019_player_score, Vit)"
   ]
  },
  {
   "cell_type": "code",
   "execution_count": null,
   "metadata": {},
   "outputs": [],
   "source": [
    "teamScoresLEC"
   ]
  },
  {
   "cell_type": "code",
   "execution_count": null,
   "metadata": {},
   "outputs": [],
   "source": [
    "forgivenScore = (springSummer2016_player_score['FORG1VEN'] + springSummer2016_player_score['FORG1VENGRE']) / 2\n",
    "forgivenScore\n",
    "\n",
    "giliusScore = summer2018_player_score['Gilius']"
   ]
  },
  {
   "cell_type": "code",
   "execution_count": null,
   "metadata": {},
   "outputs": [],
   "source": [
    "teamScoresLEC.update({'Schalke 04':teamScoresLEC.get('Schalke 04')+forgivenScore+giliusScore})"
   ]
  },
  {
   "cell_type": "code",
   "execution_count": null,
   "metadata": {},
   "outputs": [],
   "source": [
    "sorted_teamScoresLEC = sorted(teamScoresLEC.items(), key=operator.itemgetter(1), reverse = True)\n",
    "sorted_teamScoresLEC"
   ]
  },
  {
   "cell_type": "code",
   "execution_count": null,
   "metadata": {},
   "outputs": [],
   "source": [
    "ML = ['Mad Lions','Humanoid'] #Missing Orome, Shadow, Carzzy, Gistick. They're all rookies\n",
    "Excel = ['Excel','Caedrel','Expect','Mickey','Patrik','Norskeren'] # Norskeren is now Tore\n",
    "Vit = ['Vitality','Cabochard', 'Jactroll','Mowgli'] #missing milica mid and comp adc, rookies\n",
    "Msf = ['Misfits','Febiven', 'Dan Dan', 'Doss'] #missing Bvoy adc, Razork jg and Ronaldo mid all played in minor leagues last year\n",
    "S04 = ['Schalke 04','Abbedagge', 'Odoamne', 'Dreams'] # Forg1ven was in 2016 data, Gilius is in 2018 data\n",
    "Rogue = ['Rogue','Vander', 'Larssen', 'Woolite', 'Hans Sama', 'Inspired']\n",
    "SK = ['SK Gaming','Sacre','Crownshot','Jenax','Trick'] #Missing Limit the support, limit is a rookie\n",
    "Fnc = ['Fnatic','Bwipo', 'Selfmade', 'Nemesis', 'Rekkles', 'Hylissang']\n",
    "OG = ['Origen','Nukeduck','Alphari','Xerxe','Upset'] #Missing data for Destiny the support\n",
    "G2 = ['G2','Wunder', 'Jankos', 'Caps', 'Perkz', 'Mikyx']"
   ]
  },
  {
   "cell_type": "markdown",
   "metadata": {},
   "source": [
    "Rankings LEC: (Missing players)\n",
    "\n",
    "1. G2\n",
    "3. Fnatic\n",
    "2. Origen\n",
    "* SK Gaming\n",
    "* Schalke 04\n",
    "* Rogue\n",
    "* Excel\n",
    "* Vitality\n",
    "* Misfits\n",
    "* Mad Lions"
   ]
  },
  {
   "cell_type": "markdown",
   "metadata": {},
   "source": [
    "My Ranking LEC:\n",
    "\n",
    "1. G2\n",
    "2. Origen\n",
    "3. Fnatic\n",
    "4. Schalke 04\n",
    "5. SK Gaming\n",
    "6. Rogue\n",
    "6. Vitality\n",
    "8. Misfits\n",
    "7. Mad Lions\n",
    "9. Excel"
   ]
  },
  {
   "cell_type": "markdown",
   "metadata": {},
   "source": [
    "Controversial roster moves and what the model says:\n",
    "\n",
    "* Schalke 04 signing Forg1ven over Upset is high risk high reward\n",
    "* Any other roster signing Forg1ven would've been correct besides G2 and S04\n",
    "* Origen signing Upset instead of Patrik biggest offseason move\n",
    "* G2 Caps and Perkz role swap is very low risk high reward\n",
    "* Fnatic taking Selfmade over Broxah is correct\n",
    "* Vitality and Mad Lions have a very fresh squad"
   ]
  },
  {
   "cell_type": "code",
   "execution_count": null,
   "metadata": {},
   "outputs": [],
   "source": []
  },
  {
   "cell_type": "code",
   "execution_count": null,
   "metadata": {},
   "outputs": [],
   "source": []
  },
  {
   "cell_type": "code",
   "execution_count": null,
   "metadata": {},
   "outputs": [],
   "source": []
  },
  {
   "cell_type": "code",
   "execution_count": null,
   "metadata": {},
   "outputs": [],
   "source": []
  },
  {
   "cell_type": "code",
   "execution_count": null,
   "metadata": {},
   "outputs": [],
   "source": [
    "DIG = ['Dignitas','aphromoo', 'Froggen', 'Huni', 'Fenix', 'Grig']\n",
    "EG = ['Evil Geniuses','Svenskeren', 'Bang', 'Zeyzal', 'Kumo', 'Jiizuke']\n",
    "TSM = ['Team Solomid','Bjergsen', 'Broken Blade', 'Kobbe', 'Biofrost'] #missing Dardoch\n",
    "IMT = ['Immortals','Xmithie', 'sOAZ', 'Arrow', 'Hakuho', ] #missing data for mid laner\n",
    "GGS = ['Golden Guardians','Hauntzer', 'FBI', 'huhi',] #missing goldenglue, and jungler\n",
    "TL = ['Team Liquid','Impact', 'Broxah', 'Jensen', 'Doublelift', 'CoreJJ']\n",
    "FLY = ['Fly Quest','V1per', 'Santorin', 'PowerOfEvil', 'WildTurtle', 'JayJ']\n",
    "C9 = ['Cloud 9','Licorice', 'Blaber', 'Nisqy', 'Zven', 'Vulcan']\n",
    "CLG = ['Counter Logic Gaming','Stixxay', 'Wiggily', 'Smoothie', 'Crown', 'Ruin']\n",
    "T100 = ['100 Thieves','Ssumday', 'Meteos', 'Soligo', 'Cody Sun'] #missing stunt the support"
   ]
  },
  {
   "cell_type": "code",
   "execution_count": null,
   "metadata": {},
   "outputs": [],
   "source": [
    "teamScoresLCS = { }\n",
    "\n",
    "def ComputeTeamScoreLCS(scores, teams):\n",
    "    total = 0\n",
    "    team = teams[1:]\n",
    "    for player in team:\n",
    "        total += scores[player]\n",
    "    teamScoresLCS[teams[0]] = total\n",
    "\n",
    "ComputeTeamScoreLCS(summer2019_player_score, TSM)\n",
    "ComputeTeamScoreLCS(summer2019_player_score, C9)\n",
    "ComputeTeamScoreLCS(summer2019_player_score, T100)\n",
    "ComputeTeamScoreLCS(summer2019_player_score, GGS)\n",
    "ComputeTeamScoreLCS(summer2019_player_score, DIG)\n",
    "ComputeTeamScoreLCS(summer2019_player_score, IMT)\n",
    "ComputeTeamScoreLCS(summer2019_player_score, TL)\n",
    "ComputeTeamScoreLCS(summer2019_player_score, EG)\n",
    "ComputeTeamScoreLCS(summer2019_player_score, CLG)\n",
    "ComputeTeamScoreLCS(summer2019_player_score, FLY)"
   ]
  },
  {
   "cell_type": "code",
   "execution_count": null,
   "metadata": {},
   "outputs": [],
   "source": [
    "summer2019_player_score_sort = sorted(summer2019_player_score.items(), key=operator.itemgetter(1), reverse = True)\n",
    "summer2019_player_score_sort\n",
    "\n",
    "springSummer2016_player_score_sort = sorted(springSummer2016_player_score.items(), key=operator.itemgetter(1), reverse = True)\n",
    "springSummer2016_player_score_sort"
   ]
  },
  {
   "cell_type": "code",
   "execution_count": null,
   "metadata": {},
   "outputs": [],
   "source": [
    "dardochScore = summer2018_player_score['Dardoch']\n",
    "teamScoresLCS.update({'Team Solomid':teamScoresLCS.get('Team Solomid')+dardochScore})\n",
    "goldenglueScore = summer2018_player_score['Goldenglue']\n",
    "teamScoresLCS.update({'Team Solomid':teamScoresLCS.get('Golden Guardians')+goldenglueScore})\n",
    "stuntScore = spring2019_player_score['Stunt']\n",
    "teamScoresLCS.update({'100 Thieves':teamScoresLCS.get('100 Thieves')+stuntScore})"
   ]
  },
  {
   "cell_type": "code",
   "execution_count": null,
   "metadata": {},
   "outputs": [],
   "source": [
    "sorted_teamScoresLCS = sorted(teamScoresLCS.items(), key=operator.itemgetter(1), reverse = True)\n",
    "sorted_teamScoresLCS"
   ]
  },
  {
   "cell_type": "code",
   "execution_count": null,
   "metadata": {},
   "outputs": [],
   "source": [
    "DIG = ['Dignitas','aphromoo', 'Froggen', 'Huni', 'Fenix', 'Grig'] # Used Fenix for score, but can only assume Johnsun will be better.\n",
    "EG = ['Evil Genius','Svenskeren', 'Bang', 'Zeyzal', 'Kumo', 'Jiizuke']\n",
    "TSM = ['Team Solomid','Bjergsen', 'Broken Blade', 'Kobbe', 'Biofrost'] # Dardoch data is 2018\n",
    "IMT = ['Immortals','Xmithie', 'sOAZ', 'Arrow', 'Hakuho', ] #missing data for mid laner Eika, rookie\n",
    "GGS = ['Golden Guardians','Hauntzer', 'FBI', 'huhi',] #missing jungler Closer Goldenglue is 2018, huhi isn't suppoer and Keith is a rookie support\n",
    "TL = ['Team Liquid','Impact', 'Broxah', 'Jensen', 'Doublelift', 'CoreJJ']\n",
    "FLY = ['Fly Quest','V1per', 'Santorin', 'PowerOfEvil', 'WildTurtle', 'JayJ']\n",
    "C9 = ['Cloud 9','Licorice', 'Blaber', 'Nisqy', 'Zven', 'Vulcan']\n",
    "CLG = ['Counter Logic Gaming','Stixxay', 'Wiggily', 'Smoothie', 'Crown', 'Ruin']\n",
    "T100 = ['100 Thieves','Ssumday', 'Meteos', 'Soligo', 'Cody Sun'] # Stunt played in Spring 2019, Ryoma the starting mid laner is a rookie"
   ]
  },
  {
   "cell_type": "markdown",
   "metadata": {},
   "source": [
    "Classifier Rankings LCS: (Missing players)\n",
    "\n",
    "1. Cloud 9\n",
    "2. Team Liquid\n",
    "3. Dignitas\n",
    "* Counter Logic Gaming\n",
    "2. Evil Geniuses\n",
    "* Team Solomid\n",
    "* Fly Quest\n",
    "* Golden Guardians\n",
    "* Immortals\n",
    "* 100 Thieves"
   ]
  },
  {
   "cell_type": "markdown",
   "metadata": {},
   "source": [
    "My Rankings LCS:\n",
    "\n",
    "1. Team Liquid\n",
    "1. Cloud 9\n",
    "3. Dignitas\n",
    "* Team Solomid\n",
    "* Counter Logic Gaming\n",
    "2. Evil Geniuses\n",
    "* Immortals\n",
    "* Fly Quest\n",
    "* Golden Guardians\n",
    "* 100 Thieves"
   ]
  },
  {
   "cell_type": "markdown",
   "metadata": {},
   "source": [
    "Controversial LCS roster moves and what the model says:\n",
    "\n",
    "* Dignitas was correct taking Froggen > Damonte\n",
    "* Dignitas Huni contract is most likely correct\n",
    "* Cloud 9 was correct taking Zven > Sneaky\n",
    "* Cloud 9 taking a risk on Blaber might be worth it\n",
    "* Team Liquid was correct taking Broxah > Xmithie\n",
    "* Team Liquid was correct keeping Jensen\n",
    "* CLG was correct taking Crown and not renewing PowerOfEvil contract\n",
    "* TSM is correct taking a risk on Dardoch and Kobbe\n",
    "* TSM Bjergsen has a bit to prove\n",
    "* 100 Thieves kept Ssumday?\n",
    "* 100 Thieves signing Ryoma is a good risk\n",
    "* Sneaky not getting signed by an LCS team is statistically correct for all but Fly Quest\n",
    "* Pobelter not getting signed was correct"
   ]
  },
  {
   "cell_type": "code",
   "execution_count": null,
   "metadata": {},
   "outputs": [],
   "source": []
  },
  {
   "cell_type": "markdown",
   "metadata": {},
   "source": [
    "In this section, a user can compare what score a person got within any of the loaded data sets in the second cell. All the user has to do is run the two cells. Scores don't exist for rookies, or players that played in regions that are not the LCK, LCS, LEC, NALCS, and EULCS. LPL data doesn't exist."
   ]
  },
  {
   "cell_type": "code",
   "execution_count": null,
   "metadata": {},
   "outputs": [],
   "source": [
    "summer2019_player_score['Doublelift']"
   ]
  },
  {
   "cell_type": "code",
   "execution_count": null,
   "metadata": {},
   "outputs": [],
   "source": [
    "spring2019_player_score['Stunt']"
   ]
  }
 ],
 "metadata": {
  "kernelspec": {
   "display_name": "Python 3",
   "language": "python",
   "name": "python3"
  },
  "language_info": {
   "codemirror_mode": {
    "name": "ipython",
    "version": 3
   },
   "file_extension": ".py",
   "mimetype": "text/x-python",
   "name": "python",
   "nbconvert_exporter": "python",
   "pygments_lexer": "ipython3",
   "version": "3.6.5"
  }
 },
 "nbformat": 4,
 "nbformat_minor": 2
}
