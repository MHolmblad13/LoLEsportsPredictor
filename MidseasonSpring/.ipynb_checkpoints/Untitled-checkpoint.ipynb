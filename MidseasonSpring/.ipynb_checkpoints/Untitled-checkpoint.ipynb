{
 "cells": [
  {
   "cell_type": "code",
   "execution_count": 1,
   "metadata": {},
   "outputs": [],
   "source": [
    "# Import statements\n",
    "import pandas as pd # database loading and manipulation library\n",
    "import numpy as np # numeric python library\n",
    "import matplotlib.pyplot as plt # plotting and graphing library\n",
    "import operator\n",
    "%matplotlib notebook"
   ]
  },
  {
   "cell_type": "code",
   "execution_count": 3,
   "metadata": {},
   "outputs": [],
   "source": [
    "currentSpring2020 = pd.read_csv('2020-spring-match-data-OraclesElixir-2020-02-24.csv', low_memory=False)"
   ]
  },
  {
   "cell_type": "code",
   "execution_count": 60,
   "metadata": {},
   "outputs": [],
   "source": [
    "#my way of computing the player's value to the team during the game\n",
    "def KDAScore(data):\n",
    "    return data['k']+data['d']+data['a']\n",
    "\n",
    "def TimeScore(data):\n",
    "    return \\\n",
    "    (data['csdat10']+data['csdat15'])*50 + \\\n",
    "    data['gdat10'] + \\\n",
    "    data['gdat15'] + \\\n",
    "    data['xpdat10']*.3\n",
    "\n",
    "def TimeScore2016(data):\n",
    "    return \\\n",
    "    data['csdat10']*50 + \\\n",
    "    data['gdat10'] + \\\n",
    "    data['gdat15'] + \\\n",
    "    data['xpdat10']*.1\n",
    "\n",
    "# Calculate an individual player's score\n",
    "def PlayerScore(data):    \n",
    "    return \\\n",
    "        data['KDA'] + \\\n",
    "        (pd.to_numeric(data['fb'], errors='coerce') + data['fbassist'])*500 + \\\n",
    "        data['earnedgpm']*2 + \\\n",
    "        data['cspm']*3 + \\\n",
    "        data['wpm'] + \\\n",
    "        data['wcpm']*100 + \\\n",
    "        data['dmgtochampsperminute']*3.4 + \\\n",
    "        data['teamdragkills']*20 + \\\n",
    "        data['heraldkills']*50 + \\\n",
    "        data['elders']*100 + \\\n",
    "        pd.to_numeric(data['fd'], errors='coerce')*100 + \\\n",
    "        data['fbaron']*20 + \\\n",
    "        data['tScores']"
   ]
  },
  {
   "cell_type": "code",
   "execution_count": 61,
   "metadata": {},
   "outputs": [
    {
     "name": "stdout",
     "output_type": "stream",
     "text": [
      "<class 'pandas.core.frame.DataFrame'>\n",
      "Int64Index: 1200 entries, 420 to 3023\n",
      "Data columns (total 98 columns):\n",
      "gameid                     1200 non-null object\n",
      "url                        1200 non-null object\n",
      "league                     1200 non-null object\n",
      "split                      1200 non-null object\n",
      "date                       1200 non-null object\n",
      "week                       1200 non-null float64\n",
      "game                       1200 non-null int64\n",
      "patchno                    1200 non-null float64\n",
      "playerid                   1200 non-null int64\n",
      "side                       1200 non-null object\n",
      "position                   1200 non-null object\n",
      "player                     1200 non-null object\n",
      "team                       1200 non-null object\n",
      "champion                   1200 non-null object\n",
      "ban1                       1200 non-null object\n",
      "ban2                       1200 non-null object\n",
      "ban3                       1200 non-null object\n",
      "ban4                       1200 non-null object\n",
      "ban5                       1200 non-null object\n",
      "gamelength                 1200 non-null float64\n",
      "result                     1200 non-null int64\n",
      "k                          1200 non-null int64\n",
      "d                          1200 non-null int64\n",
      "a                          1200 non-null int64\n",
      "teamkills                  1200 non-null int64\n",
      "teamdeaths                 1200 non-null int64\n",
      "doubles                    1200 non-null object\n",
      "triples                    1200 non-null object\n",
      "quadras                    1200 non-null object\n",
      "pentas                     1200 non-null object\n",
      "fb                         1200 non-null object\n",
      "fbassist                   1200 non-null float64\n",
      "fbvictim                   1200 non-null object\n",
      "fbtime                     1200 non-null object\n",
      "kpm                        1200 non-null float64\n",
      "okpm                       1200 non-null float64\n",
      "ckpm                       1200 non-null float64\n",
      "fd                         1200 non-null object\n",
      "fdtime                     1200 non-null float64\n",
      "teamdragkills              1200 non-null int64\n",
      "oppdragkills               1200 non-null int64\n",
      "elementals                 1200 non-null float64\n",
      "oppelementals              1200 non-null float64\n",
      "firedrakes                 1200 non-null float64\n",
      "waterdrakes                1200 non-null float64\n",
      "earthdrakes                1200 non-null float64\n",
      "airdrakes                  1200 non-null float64\n",
      "elders                     1200 non-null float64\n",
      "oppelders                  1200 non-null float64\n",
      "heraldkills                1200 non-null float64\n",
      "oppheraldkills             1200 non-null float64\n",
      "ft                         1200 non-null float64\n",
      "fttime                     1200 non-null float64\n",
      "firstmidouter              1200 non-null float64\n",
      "firsttothreetowers         1200 non-null float64\n",
      "teamtowerkills             1200 non-null int64\n",
      "opptowerkills              1200 non-null int64\n",
      "fbaron                     1116 non-null float64\n",
      "fbarontime                 1116 non-null float64\n",
      "teambaronkills             1200 non-null float64\n",
      "oppbaronkills              1200 non-null float64\n",
      "dmgtochamps                1200 non-null float64\n",
      "dmgtochampsperminute       1200 non-null float64\n",
      "dmgshare                   1200 non-null object\n",
      "earnedgoldshare            1200 non-null object\n",
      "wards                      1200 non-null float64\n",
      "wpm                        1200 non-null float64\n",
      "wardshare                  1200 non-null float64\n",
      "wardkills                  1200 non-null float64\n",
      "wcpm                       1200 non-null float64\n",
      "visionwards                1200 non-null float64\n",
      "visionwardbuys             1200 non-null float64\n",
      "visiblewardclearrate       1200 non-null object\n",
      "invisiblewardclearrate     1200 non-null object\n",
      "totalgold                  1200 non-null float64\n",
      "earnedgpm                  1200 non-null float64\n",
      "goldspent                  1200 non-null float64\n",
      "gspd                       1200 non-null float64\n",
      "minionkills                1200 non-null float64\n",
      "monsterkills               1200 non-null float64\n",
      "monsterkillsownjungle      1200 non-null float64\n",
      "monsterkillsenemyjungle    1200 non-null float64\n",
      "cspm                       1200 non-null float64\n",
      "goldat10                   1200 non-null float64\n",
      "oppgoldat10                1200 non-null float64\n",
      "gdat10                     1200 non-null float64\n",
      "goldat15                   1200 non-null float64\n",
      "oppgoldat15                1200 non-null float64\n",
      "gdat15                     1200 non-null float64\n",
      "xpat10                     1200 non-null float64\n",
      "oppxpat10                  1200 non-null float64\n",
      "xpdat10                    1200 non-null float64\n",
      "csat10                     1200 non-null float64\n",
      "oppcsat10                  1200 non-null float64\n",
      "csdat10                    1200 non-null float64\n",
      "csat15                     1200 non-null float64\n",
      "oppcsat15                  1200 non-null float64\n",
      "csdat15                    1200 non-null float64\n",
      "dtypes: float64(59), int64(12), object(27)\n",
      "memory usage: 928.1+ KB\n"
     ]
    }
   ],
   "source": [
    "cleanCurrent = currentSpring2020.loc[(currentSpring2020['league'] == 'LCS') | (currentSpring2020['league'] == 'LEC')]\n",
    "cleanCurrent.info()"
   ]
  },
  {
   "cell_type": "code",
   "execution_count": 62,
   "metadata": {},
   "outputs": [],
   "source": [
    "cleanCurrent.loc[:, \"KDA\"] = KDAScore(cleanCurrent)\n",
    "cleanCurrent.loc[:, \"tScores\"] = TimeScore(cleanCurrent)\n",
    "cleanCurrent.loc[:, 'PlayerScore'] = PlayerScore(cleanCurrent)\n",
    "current_player_score = cleanCurrent.groupby(\"player\")[\"PlayerScore\"].mean()"
   ]
  },
  {
   "cell_type": "code",
   "execution_count": 63,
   "metadata": {},
   "outputs": [
    {
     "data": {
      "text/plain": [
       "array(['Bwipo', 'Selfmade', 'Nemesis', 'Rekkles', 'Hylissang', 'Alphari',\n",
       "       'Xerxe', 'Nukeduck', 'Upset', 'Destiny', 'Team', 'Wunder',\n",
       "       'Jankos', 'Perkz', 'Caps', 'Mikyx', 'Orome', 'Shadow', 'Humanoid',\n",
       "       'Carzzy', 'Kaiser', 'Sacre', 'Trick', 'Jenax', 'Crownshot',\n",
       "       'LIMIT', 'Cabochard', 'Skeanz', 'Saken', 'Comp', 'Jactroll',\n",
       "       'Finn', 'Inspired', 'Larssen', 'Hans Sama', 'VandeR', 'Dan Dan',\n",
       "       'Razork', 'Febiven', 'Bvoy', 'Denyk', 'Expect', 'Caedrel',\n",
       "       'Mickey', 'Patrik', 'Tore', 'Odoamne', 'Gilius', 'Abbedagge',\n",
       "       'FORG1VEN', 'Dreams', 'Licorice', 'Blaber', 'Nisqy', 'Zven',\n",
       "       'Vulcan', 'Impact', 'Shernfire', 'Jensen', 'Doublelift', 'CoreJJ',\n",
       "       'Ruin', 'Wiggily', 'Crown', 'Stixxay', 'Smoothie', 'Huni', 'Grig',\n",
       "       'Froggen', 'Johnsun', 'aphromoo', 'Ssumday', 'Meteos', 'Ryoma',\n",
       "       'Cody Sun', 'Stunt', 'Hauntzer', 'Closer', 'Goldenglue', 'FBI',\n",
       "       'Keith', 'sOAZ', 'Xmithie', 'Eika', 'Altec', 'Hakuho', 'V1per',\n",
       "       'Santorin', 'PowerOfEvil', 'WildTurtle', 'IgNar', 'Broken Blade',\n",
       "       'Dardoch', 'Bjergsen', 'Kobbe', 'Biofrost', 'Kumo', 'Svenskeren',\n",
       "       'Jiizuke', 'Bang', 'Zeyzal', 'Lurox', 'Innaxe', 'Steeelback',\n",
       "       'Broxah', 'Pobelter'], dtype=object)"
      ]
     },
     "execution_count": 63,
     "metadata": {},
     "output_type": "execute_result"
    }
   ],
   "source": [
    "cleanCurrent['player'].unique()"
   ]
  },
  {
   "cell_type": "code",
   "execution_count": 64,
   "metadata": {},
   "outputs": [],
   "source": [
    "ML = ['Mad Lions','Orome', 'Shadow', 'Humanoid', 'Carzzy', 'Kaiser'] \n",
    "Excel = ['Excel','Caedrel','Expect','Mickey','Patrik','Tore'] \n",
    "VitJ = ['Vitality J','Cabochard', 'Jactroll','Skeanz', 'Saken', 'Comp'] \n",
    "VitS = ['Vitality S','Steeelback','Cabochard','Skeanz', 'Saken', 'Comp']\n",
    "Msf = ['Misfits','Dan Dan','Razork', 'Febiven', 'Bvoy', 'Denyk']\n",
    "S04wFG = ['Schalke 04 wFG','Abbedagge', 'Odoamne', 'Dreams','FORG1VEN','Gilius']\n",
    "S04wFL = ['Schalke 04 wFL','Abbedagge', 'Odoamne', 'Dreams','FORG1VEN','Lurox']\n",
    "S04aF = ['Schalke 04 aF','Abbedagge', 'Odoamne', 'Dreams','Innaxe','Lurox']\n",
    "Rogue = ['Rogue','Finn', 'Inspired', 'Larssen', 'Hans Sama', 'VandeR']\n",
    "SK = ['SK Gaming','Sacre', 'Trick', 'Jenax', 'Crownshot', 'LIMIT']\n",
    "Fnc = ['Fnatic','Bwipo', 'Selfmade', 'Nemesis', 'Rekkles', 'Hylissang']\n",
    "OG = ['Origen','Nukeduck','Alphari','Xerxe','Upset', 'Destiny']\n",
    "G2 = ['G2','Wunder', 'Jankos', 'Caps', 'Perkz', 'Mikyx']"
   ]
  },
  {
   "cell_type": "code",
   "execution_count": 65,
   "metadata": {},
   "outputs": [],
   "source": [
    "teamScoresLEC = { }\n",
    "\n",
    "def ComputeTeamScoreLEC(scores, teams):\n",
    "    total = 0\n",
    "    team = teams[1:]\n",
    "    for player in team:\n",
    "        total += scores[player]\n",
    "    teamScoresLEC[teams[0]] = total\n",
    "\n",
    "ComputeTeamScoreLEC(current_player_score, SK)\n",
    "ComputeTeamScoreLEC(current_player_score, OG)\n",
    "ComputeTeamScoreLEC(current_player_score, Excel)\n",
    "ComputeTeamScoreLEC(current_player_score, Rogue)\n",
    "ComputeTeamScoreLEC(current_player_score, ML)\n",
    "ComputeTeamScoreLEC(current_player_score, Fnc)\n",
    "ComputeTeamScoreLEC(current_player_score, G2)\n",
    "ComputeTeamScoreLEC(current_player_score, Msf)\n",
    "ComputeTeamScoreLEC(current_player_score, S04wFG)\n",
    "ComputeTeamScoreLEC(current_player_score, S04wFL)\n",
    "ComputeTeamScoreLEC(current_player_score, S04aF)\n",
    "ComputeTeamScoreLEC(current_player_score, VitJ)\n",
    "ComputeTeamScoreLEC(current_player_score, VitS)"
   ]
  },
  {
   "cell_type": "code",
   "execution_count": 66,
   "metadata": {},
   "outputs": [
    {
     "data": {
      "text/plain": [
       "[('Origen', 11634.158347638222),\n",
       " ('G2', 11550.463571660222),\n",
       " ('Rogue', 11541.506004548499),\n",
       " ('Misfits', 11166.089564282778),\n",
       " ('Excel', 10189.017296504298),\n",
       " ('Fnatic', 9959.321749120443),\n",
       " ('Schalke 04 aF', 8890.786578306277),\n",
       " ('Vitality S', 7843.680292188223),\n",
       " ('Mad Lions', 7808.1971605533),\n",
       " ('Schalke 04 wFG', 7490.833035968111),\n",
       " ('Schalke 04 wFL', 7399.738291399777),\n",
       " ('Vitality J', 6764.5567342115555),\n",
       " ('SK Gaming', 6327.6567030012)]"
      ]
     },
     "execution_count": 66,
     "metadata": {},
     "output_type": "execute_result"
    }
   ],
   "source": [
    "sorted_teamScoresLEC = sorted(teamScoresLEC.items(), key=operator.itemgetter(1), reverse = True)\n",
    "sorted_teamScoresLEC"
   ]
  },
  {
   "cell_type": "markdown",
   "metadata": {},
   "source": [
    "|  Model        |    Actual     |    Preseason  |  Personal    |\n",
    "|:-------------:|:-------------:|:-------------:|:------------:|\n",
    "| 1. Origen     | 1. Origen     | 1. G2 Esports | 1. G2 Esports|\n",
    "| 2. G2 Esports | 1. Fnatic     | 2. Origen     | 2. Origen    |\n",
    "| 3. Rogue      | 1. G2 Esports | 3. Fnatic     | 3. Misfits   |\n",
    "| 4. Misfits    | 1. Misfits    | 4. SK Gaming  | 4. Fnatic    |\n",
    "| 5. Excel      | 5. Rogue      | 5. Scahlke 04 | 5. Rogue     |\n",
    "| 6. Fnatic     | 5. Mad Lions  | 6. Rogue      | 6. Mad Lions |\n",
    "| 7. Scahlke 04 | 7. Excel      | 7. Excel      | 7. Excel     |\n",
    "| 8. Vitality   | 8. SK Gaming  | 8. Vitality   | 8. Scahlke 04|\n",
    "| 9. Mad Lions  | 8. Scahlke 04 | 9. Misfits    | 9. Vitality  |\n",
    "|10. SK Gaming  |10. Vitality   |10. Mad Lions  |10. SK Gaming |\n",
    "\n",
    "\n",
    "Notes:\n",
    "* Clumps: Origen = G2 = Rogue = Misfits > Excel = Fnatic > S04 > Vitality = Mad Lions > SK\n",
    "* Scahlke is way better without Forgiven\n",
    "* Vitality is a lot better with Steeelback\n",
    "* Mad Lions is a sloppy team"
   ]
  },
  {
   "cell_type": "code",
   "execution_count": null,
   "metadata": {},
   "outputs": [],
   "source": []
  },
  {
   "cell_type": "code",
   "execution_count": null,
   "metadata": {},
   "outputs": [],
   "source": []
  },
  {
   "cell_type": "code",
   "execution_count": null,
   "metadata": {},
   "outputs": [],
   "source": []
  },
  {
   "cell_type": "code",
   "execution_count": null,
   "metadata": {},
   "outputs": [],
   "source": []
  },
  {
   "cell_type": "code",
   "execution_count": null,
   "metadata": {},
   "outputs": [],
   "source": []
  },
  {
   "cell_type": "code",
   "execution_count": 56,
   "metadata": {},
   "outputs": [],
   "source": [
    "DIG = ['Dignitas','Huni', 'Grig', 'Froggen', 'Johnsun', 'aphromoo']\n",
    "EG = ['Evil Geniuses','Svenskeren', 'Bang', 'Zeyzal', 'Kumo', 'Jiizuke']\n",
    "TSM = ['Team Solomid','Bjergsen', 'Broken Blade', 'Kobbe', 'Biofrost', 'Dardoch']\n",
    "IMT = ['Immortals','sOAZ', 'Xmithie', 'Eika', 'Altec', 'Hakuho']\n",
    "GGS = ['Golden Guardians','Hauntzer','FBI','Keith','Goldenglue','Closer']\n",
    "TLS = ['Team Liquid S','Impact', 'Shernfire', 'Jensen', 'Doublelift', 'CoreJJ']\n",
    "TLB = ['Team Liquid B','Impact', 'Broxah', 'Jensen', 'Doublelift', 'CoreJJ']\n",
    "FLY = ['Fly Quest','V1per', 'Santorin', 'PowerOfEvil', 'WildTurtle', 'IgNar']\n",
    "C9 = ['Cloud 9','Licorice', 'Blaber', 'Nisqy', 'Zven','Vulcan']\n",
    "CLGC = ['Counter Logic Gaming C','Ruin', 'Wiggily', 'Crown', 'Stixxay', 'Smoothie']\n",
    "CLGP = ['Counter Logic Gaming P','Ruin', 'Wiggily', 'Pobelter', 'Stixxay', 'Smoothie'] \n",
    "T100 = ['100 Thieves','Ssumday', 'Meteos', 'Ryoma', 'Cody Sun', 'Stunt']"
   ]
  },
  {
   "cell_type": "code",
   "execution_count": 57,
   "metadata": {},
   "outputs": [
    {
     "data": {
      "text/plain": [
       "array(['Bwipo', 'Selfmade', 'Nemesis', 'Rekkles', 'Hylissang', 'Alphari',\n",
       "       'Xerxe', 'Nukeduck', 'Upset', 'Destiny', 'Team', 'Wunder',\n",
       "       'Jankos', 'Perkz', 'Caps', 'Mikyx', 'Orome', 'Shadow', 'Humanoid',\n",
       "       'Carzzy', 'Kaiser', 'Sacre', 'Trick', 'Jenax', 'Crownshot',\n",
       "       'LIMIT', 'Cabochard', 'Skeanz', 'Saken', 'Comp', 'Jactroll',\n",
       "       'Finn', 'Inspired', 'Larssen', 'Hans Sama', 'VandeR', 'Dan Dan',\n",
       "       'Razork', 'Febiven', 'Bvoy', 'Denyk', 'Expect', 'Caedrel',\n",
       "       'Mickey', 'Patrik', 'Tore', 'Odoamne', 'Gilius', 'Abbedagge',\n",
       "       'FORG1VEN', 'Dreams', 'Licorice', 'Blaber', 'Nisqy', 'Zven',\n",
       "       'Vulcan', 'Impact', 'Shernfire', 'Jensen', 'Doublelift', 'CoreJJ',\n",
       "       'Ruin', 'Wiggily', 'Crown', 'Stixxay', 'Smoothie', 'Huni', 'Grig',\n",
       "       'Froggen', 'Johnsun', 'aphromoo', 'Ssumday', 'Meteos', 'Ryoma',\n",
       "       'Cody Sun', 'Stunt', 'Hauntzer', 'Closer', 'Goldenglue', 'FBI',\n",
       "       'Keith', 'sOAZ', 'Xmithie', 'Eika', 'Altec', 'Hakuho', 'V1per',\n",
       "       'Santorin', 'PowerOfEvil', 'WildTurtle', 'IgNar', 'Broken Blade',\n",
       "       'Dardoch', 'Bjergsen', 'Kobbe', 'Biofrost', 'Kumo', 'Svenskeren',\n",
       "       'Jiizuke', 'Bang', 'Zeyzal', 'Lurox', 'Innaxe', 'Steeelback',\n",
       "       'Broxah', 'Pobelter'], dtype=object)"
      ]
     },
     "execution_count": 57,
     "metadata": {},
     "output_type": "execute_result"
    }
   ],
   "source": [
    "cleanCurrent['player'].unique()"
   ]
  },
  {
   "cell_type": "code",
   "execution_count": 58,
   "metadata": {},
   "outputs": [],
   "source": [
    "teamScoresLCS = { }\n",
    "\n",
    "def ComputeTeamScoreLCS(scores, teams):\n",
    "    total = 0\n",
    "    team = teams[1:]\n",
    "    for player in team:\n",
    "        total += scores[player]\n",
    "    teamScoresLCS[teams[0]] = total\n",
    "\n",
    "ComputeTeamScoreLCS(current_player_score, TSM)\n",
    "ComputeTeamScoreLCS(current_player_score, C9)\n",
    "ComputeTeamScoreLCS(current_player_score, T100)\n",
    "ComputeTeamScoreLCS(current_player_score, GGS)\n",
    "ComputeTeamScoreLCS(current_player_score, DIG)\n",
    "ComputeTeamScoreLCS(current_player_score, IMT)\n",
    "ComputeTeamScoreLCS(current_player_score, TLS)\n",
    "ComputeTeamScoreLCS(current_player_score, TLB)\n",
    "ComputeTeamScoreLCS(current_player_score, EG)\n",
    "ComputeTeamScoreLCS(current_player_score, CLGC)\n",
    "ComputeTeamScoreLCS(current_player_score, CLGP)\n",
    "ComputeTeamScoreLCS(current_player_score, FLY)"
   ]
  },
  {
   "cell_type": "code",
   "execution_count": 59,
   "metadata": {
    "scrolled": true
   },
   "outputs": [
    {
     "data": {
      "text/plain": [
       "[('Cloud 9', 17524.3568166882),\n",
       " ('Team Solomid', 12294.807993497554),\n",
       " ('Team Liquid S', 10318.528557957367),\n",
       " ('Team Liquid B', 10016.28598058845),\n",
       " ('Golden Guardians', 9622.393861175),\n",
       " ('Evil Geniuses', 9095.9564609832),\n",
       " ('Dignitas', 7215.444392576333),\n",
       " ('Counter Logic Gaming P', 6982.8283202795),\n",
       " ('100 Thieves', 6482.648016479874),\n",
       " ('Fly Quest', 6327.886446664499),\n",
       " ('Counter Logic Gaming C', 5306.653446911375),\n",
       " ('Immortals', 4977.9046149589)]"
      ]
     },
     "execution_count": 59,
     "metadata": {},
     "output_type": "execute_result"
    }
   ],
   "source": [
    "sorted_teamScoresLCS = sorted(teamScoresLCS.items(), key=operator.itemgetter(1), reverse = True)\n",
    "sorted_teamScoresLCS"
   ]
  },
  {
   "cell_type": "markdown",
   "metadata": {},
   "source": [
    "|  Model             |    Actual          |    Preseason       |  Personal          |\n",
    "|:------------------:|:------------------:|:------------------:|:------------------:|\n",
    "| 1. Cloud 9         | 1. Cloud 9         | 1. Cloud 9         | 1. Cloud 9         |\n",
    "| 2. Team Solomid    | 2. Fly Quest       | 2. Team Liquid     | 2. Team Solomid    |    \n",
    "| 3. Team Liquid     | 3. Team Solomid    | 3. Dignitas        | 3. Fly Quest       |\n",
    "| 4. Golden Guardians| 4. Immortals       | 4. CLG             | 4. Dignitas        |\n",
    "| 5. Evil Geniuses   | 4. Dignitas        | 5. Evil Geniuses   | 5. Evil Geniuses   |\n",
    "| 6. Dignitas        | 6. Evil Geniuses   | 6. Team Solomid    | 6. Golden Guardians|\n",
    "| 7. CLG             | 6. Team Liquid     | 7. Fly Quest       | 7. Team Liquid     |\n",
    "| 8. 100 Thieves     | 6. Golden Guardians| 8. Golden Guardians| 8. Immortals       |\n",
    "| 9. Fly Quest       | 6. 100 Thieves     | 9. Immortals       | 9. 100 Thieves     |\n",
    "|10. Immortals       |10. CLG             |10. 100 Thieves     |10. CLG             |\n",
    "\n",
    "Notes:\n",
    "* Clumps: Cloud 9 >> TSM > Team Liquid = Golden Guardians = Evil Geniuses >> Dignitas = CLG Pob = 100 Thieves = Fly Quest >> Immortals\n",
    "* This model is bad at handling good team synergy with \"ok\" players\n",
    "* CLG with Crown over Pobelter puts them on the same level as Immortals"
   ]
  },
  {
   "cell_type": "code",
   "execution_count": 33,
   "metadata": {},
   "outputs": [],
   "source": []
  },
  {
   "cell_type": "code",
   "execution_count": null,
   "metadata": {},
   "outputs": [],
   "source": []
  },
  {
   "cell_type": "code",
   "execution_count": null,
   "metadata": {},
   "outputs": [],
   "source": []
  },
  {
   "cell_type": "code",
   "execution_count": null,
   "metadata": {},
   "outputs": [],
   "source": []
  },
  {
   "cell_type": "code",
   "execution_count": null,
   "metadata": {},
   "outputs": [],
   "source": []
  },
  {
   "cell_type": "code",
   "execution_count": 36,
   "metadata": {},
   "outputs": [
    {
     "data": {
      "text/plain": [
       "[('Team', 8603.620396325989),\n",
       " ('Zven', 4773.504050163499),\n",
       " ('FBI', 4386.383000810375),\n",
       " ('Licorice', 4308.825697550001),\n",
       " ('Doublelift', 3417.4062589285995),\n",
       " ('Froggen', 3256.376098359778),\n",
       " ('Blaber', 3166.2075456539005),\n",
       " ('Bjergsen', 3081.0586804218888),\n",
       " ('PowerOfEvil', 3067.1854536240003),\n",
       " ('Broken Blade', 3015.212595938),\n",
       " ('Kobbe', 2943.325175188556),\n",
       " ('Bang', 2863.656610479001),\n",
       " ('Jensen', 2840.2144883348),\n",
       " ('Impact', 2778.1387880998),\n",
       " ('Nisqy', 2660.9359555381006),\n",
       " ('Jiizuke', 2496.0148969129),\n",
       " ('Pobelter', 2486.757518301),\n",
       " ('Vulcan', 2352.8835677826996),\n",
       " ('Cody Sun', 2107.721426899625),\n",
       " ('Eika', 1925.2941407478),\n",
       " ('Wiggily', 1676.2876242519),\n",
       " ('Huni', 1674.0715118047779),\n",
       " ('Kumo', 1660.2895178843003),\n",
       " ('Biofrost', 1645.12253447),\n",
       " ('Goldenglue', 1620.63768070875),\n",
       " ('Dardoch', 1512.4445630346665),\n",
       " ('Santorin', 1477.9351187356249),\n",
       " ('Hauntzer', 1468.5000971712498),\n",
       " ('Meteos', 1429.838627908125),\n",
       " ('Ruin', 1411.7730323706),\n",
       " ('Closer', 1408.153731945625),\n",
       " ('Ssumday', 1364.099573892875),\n",
       " ('Altec', 1349.0696202436),\n",
       " ('Svenskeren', 1197.7164914201999),\n",
       " ('Grig', 1162.6752820726665),\n",
       " ('Xmithie', 1140.4029293053),\n",
       " ('Stixxay', 1058.4983251355),\n",
       " ('V1per', 1045.4067514548751),\n",
       " ('Stunt', 1040.9660578505),\n",
       " ('Johnsun', 973.5162598919999),\n",
       " ('sOAZ', 954.0738489646999),\n",
       " ('Zeyzal', 903.7589442867999),\n",
       " ('Crown', 901.4576449328749),\n",
       " ('CoreJJ', 812.0744692115001),\n",
       " ('Keith', 761.144350539),\n",
       " ('Ryoma', 604.0473299287501),\n",
       " ('WildTurtle', 387.42763098412496),\n",
       " ('IgNar', 379.9064918658749),\n",
       " ('Shernfire', 333.44788671599997),\n",
       " ('Smoothie', 262.2718202205),\n",
       " ('aphromoo', 228.80524044711106),\n",
       " ('Broxah', 28.271976013750077),\n",
       " ('Hakuho', -308.71592430249996)]"
      ]
     },
     "execution_count": 36,
     "metadata": {},
     "output_type": "execute_result"
    }
   ],
   "source": [
    "currentLCS = cleanCurrent.loc[cleanCurrent['league'] == 'LCS']\n",
    "currentLCS_player_score = currentLCS.groupby(\"player\")[\"PlayerScore\"].mean()\n",
    "currentLCS_player_score_sort = sorted(currentLCS_player_score.items(), key=operator.itemgetter(1), reverse = True)\n",
    "currentLCS_player_score_sort"
   ]
  },
  {
   "cell_type": "code",
   "execution_count": null,
   "metadata": {},
   "outputs": [],
   "source": []
  }
 ],
 "metadata": {
  "kernelspec": {
   "display_name": "Python 3",
   "language": "python",
   "name": "python3"
  },
  "language_info": {
   "codemirror_mode": {
    "name": "ipython",
    "version": 3
   },
   "file_extension": ".py",
   "mimetype": "text/x-python",
   "name": "python",
   "nbconvert_exporter": "python",
   "pygments_lexer": "ipython3",
   "version": "3.7.4"
  }
 },
 "nbformat": 4,
 "nbformat_minor": 2
}
