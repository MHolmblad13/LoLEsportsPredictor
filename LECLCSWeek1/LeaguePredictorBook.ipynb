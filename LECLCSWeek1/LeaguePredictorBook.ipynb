{
 "cells": [
  {
   "cell_type": "code",
   "execution_count": null,
   "metadata": {},
   "outputs": [],
   "source": [
    "# Import statements\n",
    "import pandas as pd # database loading and manipulation library\n",
    "import numpy as np # numeric python library\n",
    "import matplotlib.pyplot as plt # plotting and graphing library\n",
    "import operator\n",
    "%matplotlib notebook "
   ]
  },
  {
   "cell_type": "code",
   "execution_count": null,
   "metadata": {},
   "outputs": [],
   "source": [
    "summer2019 = pd.read_csv('2019-summer-match-data-OraclesElixir-2019-09-16.csv', low_memory=False)\n",
    "spring2019 = pd.read_csv('2019-spring-match-data-OraclesElixir-2019-05-21.csv', low_memory=False)\n",
    "springSummer2016 = pd.read_csv('2016-complete-match-data-OraclesElixir-2018-12-18.csv', low_memory=False)"
   ]
  },
  {
   "cell_type": "code",
   "execution_count": null,
   "metadata": {},
   "outputs": [],
   "source": [
    "summer2019.info()"
   ]
  },
  {
   "cell_type": "code",
   "execution_count": null,
   "metadata": {},
   "outputs": [],
   "source": [
    "#Let's look at all of the unique players in the 2019 summer season\n",
    "summer2019['player'].unique()"
   ]
  },
  {
   "cell_type": "code",
   "execution_count": null,
   "metadata": {},
   "outputs": [],
   "source": [
    "# summer2019['league'].unique()\n",
    "springSummer2016['league'].unique()"
   ]
  },
  {
   "cell_type": "code",
   "execution_count": null,
   "metadata": {},
   "outputs": [],
   "source": [
    "#my way of computing the player's value to the team during the game\n",
    "def KDAScore(data):\n",
    "    return data['k']+data['d']+data['a']\n",
    "\n",
    "def TimeScore(data):\n",
    "    return \\\n",
    "    (data['csdat10']+data['csdat15'])*50 + \\\n",
    "    data['gdat10'] + \\\n",
    "    data['gdat15'] + \\\n",
    "    data['xpdat10']*.1\n",
    "\n",
    "def TimeScore2016(data):\n",
    "    return \\\n",
    "    data['csdat10']*50 + \\\n",
    "    data['gdat10'] + \\\n",
    "    data['gdat15'] + \\\n",
    "    data['xpdat10']*.1\n",
    "\n",
    "# Calculate an individual player's score\n",
    "def PlayerScore(data):    \n",
    "    return \\\n",
    "        data['KDA'] + \\\n",
    "        (pd.to_numeric(data['fb'], errors='coerce') + data['fbassist'])*500 + \\\n",
    "        data['earnedgpm']*2 + \\\n",
    "        data['cspm']*3 + \\\n",
    "        data['wpm'] + \\\n",
    "        data['wcpm']*100 + \\\n",
    "        data['dmgtochampsperminute']*3.4 + \\\n",
    "        data['teamdragkills']*20 + \\\n",
    "        pd.to_numeric(data['fd'], errors='coerce')*100 + \\\n",
    "        data['fbaron']*20 + \\\n",
    "        data['tScores']"
   ]
  },
  {
   "cell_type": "code",
   "execution_count": null,
   "metadata": {},
   "outputs": [],
   "source": [
    "#All of the 2020 LCS/LEC Players, not including Forgiven and players not in above list\n",
    "players = ['Sacre','Crownshot','Jenax','Nukeduck','Alphari','Xerxe','Kold','Upset','kaSing','Caedral','Expect','Special','Patrik', 'Vander', 'Larssen', 'Woolite', 'Hans Sama', \n",
    "           'Inspired', 'Profit', 'Humanoid','Bwipo', 'Selfmade', 'Nemesis', 'Rekkles', 'Hylissang', 'Wunder', 'Jankos', 'Caps', 'Perkz', 'Mikyx', 'Febiven', 'Dan Dan', 'Kirei',\n",
    "           'Doss', 'Abbedagge', 'Odoamne', 'Dreams', 'Cabochard', 'Jactroll', 'Mowgli', 'Attila', 'Svenskeren', 'Bang', 'Zeyzal', 'Kumo', 'Deftly', 'Jizuke', 'Bjergsen', \n",
    "           'Broken Blade', 'Kobbe', 'Biofrost', 'Licorice', 'Blaber', 'Nisqy', 'Zven', 'Vulcan', 'Xmithie', 'sOAZ', 'Arrow', 'Hakuho', 'aphromoo', 'Froggen', 'Huni', 'Olleh',\n",
    "           'Grig', 'Stixxay', 'Wiggily', 'Smoothie', 'Crown', 'Ruin', 'Impact', 'Broxah', 'Jensen', 'Doublelift', 'CoreJJ', 'V1per', 'Santorin', 'PowerOfEvil', 'WildTurtle', 'JayJ',\n",
    "           'FBI', 'huhi', 'Hauntzer', 'Ssumday', 'Meteos', 'Soligo', 'Cody Sun']\n",
    "#Just for players that played in 2016, like Forgiven\n",
    "players2016 = []"
   ]
  },
  {
   "cell_type": "code",
   "execution_count": null,
   "metadata": {},
   "outputs": [],
   "source": [
    "cleanSummer2019 = summer2019.loc[(summer2019['league'] == 'LCS') | (summer2019['league'] == 'LEC')]\n",
    "cleanSpring2019 = spring2019.loc[(spring2019['league'] == 'LCS') | (spring2019['league'] == 'LEC')]\n",
    "cleanSpringSummer2016 = springSummer2016.loc[(springSummer2016['league'] == 'EULCS') | (spring2019['league'] == 'NALCS')]\n",
    "\n",
    "cleanSummer2019.fillna(0)\n",
    "cleanSpring2019.fillna(0)\n",
    "cleanSpringSummer2016.fillna(0)\n",
    "\n",
    "cleanSummer2019.head()"
   ]
  },
  {
   "cell_type": "code",
   "execution_count": null,
   "metadata": {},
   "outputs": [],
   "source": [
    "cleanSpringSummer2016.info()"
   ]
  },
  {
   "cell_type": "code",
   "execution_count": null,
   "metadata": {},
   "outputs": [],
   "source": [
    "cleanSummer2019.loc[:, \"KDA\"] = KDAScore(cleanSummer2019)\n",
    "cleanSpring2019.loc[:, \"KDA\"] = KDAScore(cleanSpring2019)\n",
    "#cleanSpringSummer2016.loc[:, \"KDA\"] = KDAScore(cleanSpringSummer2016)  "
   ]
  },
  {
   "cell_type": "code",
   "execution_count": null,
   "metadata": {},
   "outputs": [],
   "source": [
    "cleanSummer2019.loc[:, \"tScores\"] = TimeScore(cleanSummer2019)\n",
    "cleanSpring2019.loc[:, \"tScores\"] = TimeScore(cleanSpring2019)\n",
    "cleanSpringSummer2016.loc[:, \"tScores\"] = TimeScore2016(cleanSpringSummer2016)"
   ]
  },
  {
   "cell_type": "code",
   "execution_count": null,
   "metadata": {},
   "outputs": [],
   "source": [
    "cleanSummer2019.info()"
   ]
  },
  {
   "cell_type": "code",
   "execution_count": null,
   "metadata": {},
   "outputs": [],
   "source": [
    "cleanSummer2019.loc[:, 'PlayerScore'] = PlayerScore(cleanSummer2019)\n",
    "cleanSpring2019.loc[:, 'PlayerScore'] = PlayerScore(cleanSpring2019)\n",
    "# cleanSpringSummer2016.loc[:, 'PlayerScore'] = PlayerScore(cleanSpringSummer2016)"
   ]
  },
  {
   "cell_type": "code",
   "execution_count": null,
   "metadata": {},
   "outputs": [],
   "source": [
    "summer2019_player_score = cleanSummer2019.groupby(\"player\")[\"PlayerScore\"].mean()\n",
    "summer2019_player_score"
   ]
  },
  {
   "cell_type": "code",
   "execution_count": null,
   "metadata": {},
   "outputs": [],
   "source": []
  }
 ],
 "metadata": {
  "kernelspec": {
   "display_name": "Python 3",
   "language": "python",
   "name": "python3"
  },
  "language_info": {
   "codemirror_mode": {
    "name": "ipython",
    "version": 3
   },
   "file_extension": ".py",
   "mimetype": "text/x-python",
   "name": "python",
   "nbconvert_exporter": "python",
   "pygments_lexer": "ipython3",
   "version": "3.7.4"
  }
 },
 "nbformat": 4,
 "nbformat_minor": 2
}
